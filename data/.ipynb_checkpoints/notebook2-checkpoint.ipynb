{
 "cells": [
  {
   "cell_type": "code",
   "execution_count": 1,
   "metadata": {
    "collapsed": true
   },
   "outputs": [],
   "source": [
    "import pandas as pd"
   ]
  },
  {
   "cell_type": "code",
   "execution_count": 2,
   "metadata": {
    "collapsed": true
   },
   "outputs": [],
   "source": [
    "data = pd.read_csv('streamgage.csv')"
   ]
  },
  {
   "cell_type": "code",
   "execution_count": 3,
   "metadata": {
    "collapsed": false
   },
   "outputs": [
    {
     "data": {
      "text/html": [
       "<div>\n",
       "<table border=\"1\" class=\"dataframe\">\n",
       "  <thead>\n",
       "    <tr style=\"text-align: right;\">\n",
       "      <th></th>\n",
       "      <th>agency_cd</th>\n",
       "      <th>site_no</th>\n",
       "      <th>datetime</th>\n",
       "      <th>tz_cd</th>\n",
       "      <th>01_00060</th>\n",
       "      <th>01_00060_cd</th>\n",
       "      <th>02_00065</th>\n",
       "      <th>02_00065_cd</th>\n",
       "    </tr>\n",
       "  </thead>\n",
       "  <tbody>\n",
       "    <tr>\n",
       "      <th>0</th>\n",
       "      <td>USGS</td>\n",
       "      <td>9163500</td>\n",
       "      <td>1/1/16 0:00</td>\n",
       "      <td>MST</td>\n",
       "      <td>3510</td>\n",
       "      <td>P</td>\n",
       "      <td>3.78</td>\n",
       "      <td>P</td>\n",
       "    </tr>\n",
       "    <tr>\n",
       "      <th>1</th>\n",
       "      <td>USGS</td>\n",
       "      <td>9163500</td>\n",
       "      <td>1/1/16 0:15</td>\n",
       "      <td>MST</td>\n",
       "      <td>3510</td>\n",
       "      <td>P</td>\n",
       "      <td>3.78</td>\n",
       "      <td>P</td>\n",
       "    </tr>\n",
       "    <tr>\n",
       "      <th>2</th>\n",
       "      <td>USGS</td>\n",
       "      <td>9163500</td>\n",
       "      <td>1/1/16 0:30</td>\n",
       "      <td>MST</td>\n",
       "      <td>3490</td>\n",
       "      <td>P</td>\n",
       "      <td>3.77</td>\n",
       "      <td>P</td>\n",
       "    </tr>\n",
       "    <tr>\n",
       "      <th>3</th>\n",
       "      <td>USGS</td>\n",
       "      <td>9163500</td>\n",
       "      <td>1/1/16 0:45</td>\n",
       "      <td>MST</td>\n",
       "      <td>3490</td>\n",
       "      <td>P</td>\n",
       "      <td>3.77</td>\n",
       "      <td>P</td>\n",
       "    </tr>\n",
       "    <tr>\n",
       "      <th>4</th>\n",
       "      <td>USGS</td>\n",
       "      <td>9163500</td>\n",
       "      <td>1/1/16 1:00</td>\n",
       "      <td>MST</td>\n",
       "      <td>3470</td>\n",
       "      <td>P</td>\n",
       "      <td>3.76</td>\n",
       "      <td>P</td>\n",
       "    </tr>\n",
       "    <tr>\n",
       "      <th>5</th>\n",
       "      <td>USGS</td>\n",
       "      <td>9163500</td>\n",
       "      <td>1/1/16 1:15</td>\n",
       "      <td>MST</td>\n",
       "      <td>3460</td>\n",
       "      <td>P</td>\n",
       "      <td>3.75</td>\n",
       "      <td>P</td>\n",
       "    </tr>\n",
       "    <tr>\n",
       "      <th>6</th>\n",
       "      <td>USGS</td>\n",
       "      <td>9163500</td>\n",
       "      <td>1/1/16 1:30</td>\n",
       "      <td>MST</td>\n",
       "      <td>3420</td>\n",
       "      <td>P</td>\n",
       "      <td>3.73</td>\n",
       "      <td>P</td>\n",
       "    </tr>\n",
       "    <tr>\n",
       "      <th>7</th>\n",
       "      <td>USGS</td>\n",
       "      <td>9163500</td>\n",
       "      <td>1/1/16 1:45</td>\n",
       "      <td>MST</td>\n",
       "      <td>3410</td>\n",
       "      <td>P</td>\n",
       "      <td>3.72</td>\n",
       "      <td>P</td>\n",
       "    </tr>\n",
       "    <tr>\n",
       "      <th>8</th>\n",
       "      <td>USGS</td>\n",
       "      <td>9163500</td>\n",
       "      <td>1/1/16 2:00</td>\n",
       "      <td>MST</td>\n",
       "      <td>3390</td>\n",
       "      <td>P</td>\n",
       "      <td>3.71</td>\n",
       "      <td>P</td>\n",
       "    </tr>\n",
       "    <tr>\n",
       "      <th>9</th>\n",
       "      <td>USGS</td>\n",
       "      <td>9163500</td>\n",
       "      <td>1/1/16 2:15</td>\n",
       "      <td>MST</td>\n",
       "      <td>3390</td>\n",
       "      <td>P</td>\n",
       "      <td>3.70</td>\n",
       "      <td>P</td>\n",
       "    </tr>\n",
       "    <tr>\n",
       "      <th>10</th>\n",
       "      <td>USGS</td>\n",
       "      <td>9163500</td>\n",
       "      <td>1/1/16 2:30</td>\n",
       "      <td>MST</td>\n",
       "      <td>3360</td>\n",
       "      <td>P</td>\n",
       "      <td>3.68</td>\n",
       "      <td>P</td>\n",
       "    </tr>\n",
       "    <tr>\n",
       "      <th>11</th>\n",
       "      <td>USGS</td>\n",
       "      <td>9163500</td>\n",
       "      <td>1/1/16 2:45</td>\n",
       "      <td>MST</td>\n",
       "      <td>3340</td>\n",
       "      <td>P</td>\n",
       "      <td>3.67</td>\n",
       "      <td>P</td>\n",
       "    </tr>\n",
       "    <tr>\n",
       "      <th>12</th>\n",
       "      <td>USGS</td>\n",
       "      <td>9163500</td>\n",
       "      <td>1/1/16 3:00</td>\n",
       "      <td>MST</td>\n",
       "      <td>3340</td>\n",
       "      <td>P</td>\n",
       "      <td>3.67</td>\n",
       "      <td>P</td>\n",
       "    </tr>\n",
       "    <tr>\n",
       "      <th>13</th>\n",
       "      <td>USGS</td>\n",
       "      <td>9163500</td>\n",
       "      <td>1/1/16 3:15</td>\n",
       "      <td>MST</td>\n",
       "      <td>3320</td>\n",
       "      <td>P</td>\n",
       "      <td>3.66</td>\n",
       "      <td>P</td>\n",
       "    </tr>\n",
       "    <tr>\n",
       "      <th>14</th>\n",
       "      <td>USGS</td>\n",
       "      <td>9163500</td>\n",
       "      <td>1/1/16 3:30</td>\n",
       "      <td>MST</td>\n",
       "      <td>3310</td>\n",
       "      <td>P</td>\n",
       "      <td>3.65</td>\n",
       "      <td>P</td>\n",
       "    </tr>\n",
       "    <tr>\n",
       "      <th>15</th>\n",
       "      <td>USGS</td>\n",
       "      <td>9163500</td>\n",
       "      <td>1/1/16 3:45</td>\n",
       "      <td>MST</td>\n",
       "      <td>3310</td>\n",
       "      <td>P</td>\n",
       "      <td>3.65</td>\n",
       "      <td>P</td>\n",
       "    </tr>\n",
       "    <tr>\n",
       "      <th>16</th>\n",
       "      <td>USGS</td>\n",
       "      <td>9163500</td>\n",
       "      <td>1/1/16 4:00</td>\n",
       "      <td>MST</td>\n",
       "      <td>3290</td>\n",
       "      <td>P</td>\n",
       "      <td>3.64</td>\n",
       "      <td>P</td>\n",
       "    </tr>\n",
       "    <tr>\n",
       "      <th>17</th>\n",
       "      <td>USGS</td>\n",
       "      <td>9163500</td>\n",
       "      <td>1/1/16 4:15</td>\n",
       "      <td>MST</td>\n",
       "      <td>3270</td>\n",
       "      <td>P</td>\n",
       "      <td>3.63</td>\n",
       "      <td>P</td>\n",
       "    </tr>\n",
       "    <tr>\n",
       "      <th>18</th>\n",
       "      <td>USGS</td>\n",
       "      <td>9163500</td>\n",
       "      <td>1/1/16 4:30</td>\n",
       "      <td>MST</td>\n",
       "      <td>3270</td>\n",
       "      <td>P</td>\n",
       "      <td>3.63</td>\n",
       "      <td>P</td>\n",
       "    </tr>\n",
       "    <tr>\n",
       "      <th>19</th>\n",
       "      <td>USGS</td>\n",
       "      <td>9163500</td>\n",
       "      <td>1/1/16 4:45</td>\n",
       "      <td>MST</td>\n",
       "      <td>3260</td>\n",
       "      <td>P</td>\n",
       "      <td>3.62</td>\n",
       "      <td>P</td>\n",
       "    </tr>\n",
       "    <tr>\n",
       "      <th>20</th>\n",
       "      <td>USGS</td>\n",
       "      <td>9163500</td>\n",
       "      <td>1/1/16 5:00</td>\n",
       "      <td>MST</td>\n",
       "      <td>3260</td>\n",
       "      <td>P</td>\n",
       "      <td>3.62</td>\n",
       "      <td>P</td>\n",
       "    </tr>\n",
       "    <tr>\n",
       "      <th>21</th>\n",
       "      <td>USGS</td>\n",
       "      <td>9163500</td>\n",
       "      <td>1/1/16 5:15</td>\n",
       "      <td>MST</td>\n",
       "      <td>3230</td>\n",
       "      <td>P</td>\n",
       "      <td>3.60</td>\n",
       "      <td>P</td>\n",
       "    </tr>\n",
       "    <tr>\n",
       "      <th>22</th>\n",
       "      <td>USGS</td>\n",
       "      <td>9163500</td>\n",
       "      <td>1/1/16 5:30</td>\n",
       "      <td>MST</td>\n",
       "      <td>3240</td>\n",
       "      <td>P</td>\n",
       "      <td>3.61</td>\n",
       "      <td>P</td>\n",
       "    </tr>\n",
       "    <tr>\n",
       "      <th>23</th>\n",
       "      <td>USGS</td>\n",
       "      <td>9163500</td>\n",
       "      <td>1/1/16 5:45</td>\n",
       "      <td>MST</td>\n",
       "      <td>3230</td>\n",
       "      <td>P</td>\n",
       "      <td>3.60</td>\n",
       "      <td>P</td>\n",
       "    </tr>\n",
       "    <tr>\n",
       "      <th>24</th>\n",
       "      <td>USGS</td>\n",
       "      <td>9163500</td>\n",
       "      <td>1/1/16 6:00</td>\n",
       "      <td>MST</td>\n",
       "      <td>3230</td>\n",
       "      <td>P</td>\n",
       "      <td>3.60</td>\n",
       "      <td>P</td>\n",
       "    </tr>\n",
       "    <tr>\n",
       "      <th>25</th>\n",
       "      <td>USGS</td>\n",
       "      <td>9163500</td>\n",
       "      <td>1/1/16 6:15</td>\n",
       "      <td>MST</td>\n",
       "      <td>3230</td>\n",
       "      <td>P</td>\n",
       "      <td>3.59</td>\n",
       "      <td>P</td>\n",
       "    </tr>\n",
       "    <tr>\n",
       "      <th>26</th>\n",
       "      <td>USGS</td>\n",
       "      <td>9163500</td>\n",
       "      <td>1/1/16 6:30</td>\n",
       "      <td>MST</td>\n",
       "      <td>3210</td>\n",
       "      <td>P</td>\n",
       "      <td>3.58</td>\n",
       "      <td>P</td>\n",
       "    </tr>\n",
       "    <tr>\n",
       "      <th>27</th>\n",
       "      <td>USGS</td>\n",
       "      <td>9163500</td>\n",
       "      <td>1/1/16 6:45</td>\n",
       "      <td>MST</td>\n",
       "      <td>3210</td>\n",
       "      <td>P</td>\n",
       "      <td>3.58</td>\n",
       "      <td>P</td>\n",
       "    </tr>\n",
       "    <tr>\n",
       "      <th>28</th>\n",
       "      <td>USGS</td>\n",
       "      <td>9163500</td>\n",
       "      <td>1/1/16 7:00</td>\n",
       "      <td>MST</td>\n",
       "      <td>3190</td>\n",
       "      <td>P</td>\n",
       "      <td>3.57</td>\n",
       "      <td>P</td>\n",
       "    </tr>\n",
       "    <tr>\n",
       "      <th>29</th>\n",
       "      <td>USGS</td>\n",
       "      <td>9163500</td>\n",
       "      <td>1/1/16 7:15</td>\n",
       "      <td>MST</td>\n",
       "      <td>3160</td>\n",
       "      <td>P</td>\n",
       "      <td>3.55</td>\n",
       "      <td>P</td>\n",
       "    </tr>\n",
       "    <tr>\n",
       "      <th>...</th>\n",
       "      <td>...</td>\n",
       "      <td>...</td>\n",
       "      <td>...</td>\n",
       "      <td>...</td>\n",
       "      <td>...</td>\n",
       "      <td>...</td>\n",
       "      <td>...</td>\n",
       "      <td>...</td>\n",
       "    </tr>\n",
       "    <tr>\n",
       "      <th>66</th>\n",
       "      <td>USGS</td>\n",
       "      <td>9163500</td>\n",
       "      <td>1/1/16 16:30</td>\n",
       "      <td>MST</td>\n",
       "      <td>3630</td>\n",
       "      <td>P</td>\n",
       "      <td>3.86</td>\n",
       "      <td>P</td>\n",
       "    </tr>\n",
       "    <tr>\n",
       "      <th>67</th>\n",
       "      <td>USGS</td>\n",
       "      <td>9163500</td>\n",
       "      <td>1/1/16 16:45</td>\n",
       "      <td>MST</td>\n",
       "      <td>3630</td>\n",
       "      <td>P</td>\n",
       "      <td>3.86</td>\n",
       "      <td>P</td>\n",
       "    </tr>\n",
       "    <tr>\n",
       "      <th>68</th>\n",
       "      <td>USGS</td>\n",
       "      <td>9163500</td>\n",
       "      <td>1/1/16 17:00</td>\n",
       "      <td>MST</td>\n",
       "      <td>3650</td>\n",
       "      <td>P</td>\n",
       "      <td>3.87</td>\n",
       "      <td>P</td>\n",
       "    </tr>\n",
       "    <tr>\n",
       "      <th>69</th>\n",
       "      <td>USGS</td>\n",
       "      <td>9163500</td>\n",
       "      <td>1/1/16 17:15</td>\n",
       "      <td>MST</td>\n",
       "      <td>3660</td>\n",
       "      <td>P</td>\n",
       "      <td>3.88</td>\n",
       "      <td>P</td>\n",
       "    </tr>\n",
       "    <tr>\n",
       "      <th>70</th>\n",
       "      <td>USGS</td>\n",
       "      <td>9163500</td>\n",
       "      <td>1/1/16 17:30</td>\n",
       "      <td>MST</td>\n",
       "      <td>3660</td>\n",
       "      <td>P</td>\n",
       "      <td>3.88</td>\n",
       "      <td>P</td>\n",
       "    </tr>\n",
       "    <tr>\n",
       "      <th>71</th>\n",
       "      <td>USGS</td>\n",
       "      <td>9163500</td>\n",
       "      <td>1/1/16 17:45</td>\n",
       "      <td>MST</td>\n",
       "      <td>3680</td>\n",
       "      <td>P</td>\n",
       "      <td>3.89</td>\n",
       "      <td>P</td>\n",
       "    </tr>\n",
       "    <tr>\n",
       "      <th>72</th>\n",
       "      <td>USGS</td>\n",
       "      <td>9163500</td>\n",
       "      <td>1/1/16 18:00</td>\n",
       "      <td>MST</td>\n",
       "      <td>3680</td>\n",
       "      <td>P</td>\n",
       "      <td>3.89</td>\n",
       "      <td>P</td>\n",
       "    </tr>\n",
       "    <tr>\n",
       "      <th>73</th>\n",
       "      <td>USGS</td>\n",
       "      <td>9163500</td>\n",
       "      <td>1/1/16 18:15</td>\n",
       "      <td>MST</td>\n",
       "      <td>3680</td>\n",
       "      <td>P</td>\n",
       "      <td>3.89</td>\n",
       "      <td>P</td>\n",
       "    </tr>\n",
       "    <tr>\n",
       "      <th>74</th>\n",
       "      <td>USGS</td>\n",
       "      <td>9163500</td>\n",
       "      <td>1/1/16 18:30</td>\n",
       "      <td>MST</td>\n",
       "      <td>3680</td>\n",
       "      <td>P</td>\n",
       "      <td>3.89</td>\n",
       "      <td>P</td>\n",
       "    </tr>\n",
       "    <tr>\n",
       "      <th>75</th>\n",
       "      <td>USGS</td>\n",
       "      <td>9163500</td>\n",
       "      <td>1/1/16 18:45</td>\n",
       "      <td>MST</td>\n",
       "      <td>3680</td>\n",
       "      <td>P</td>\n",
       "      <td>3.89</td>\n",
       "      <td>P</td>\n",
       "    </tr>\n",
       "    <tr>\n",
       "      <th>76</th>\n",
       "      <td>USGS</td>\n",
       "      <td>9163500</td>\n",
       "      <td>1/1/16 19:00</td>\n",
       "      <td>MST</td>\n",
       "      <td>3680</td>\n",
       "      <td>P</td>\n",
       "      <td>3.89</td>\n",
       "      <td>P</td>\n",
       "    </tr>\n",
       "    <tr>\n",
       "      <th>77</th>\n",
       "      <td>USGS</td>\n",
       "      <td>9163500</td>\n",
       "      <td>1/1/16 19:15</td>\n",
       "      <td>MST</td>\n",
       "      <td>3700</td>\n",
       "      <td>P</td>\n",
       "      <td>3.90</td>\n",
       "      <td>P</td>\n",
       "    </tr>\n",
       "    <tr>\n",
       "      <th>78</th>\n",
       "      <td>USGS</td>\n",
       "      <td>9163500</td>\n",
       "      <td>1/1/16 19:30</td>\n",
       "      <td>MST</td>\n",
       "      <td>3720</td>\n",
       "      <td>P</td>\n",
       "      <td>3.91</td>\n",
       "      <td>P</td>\n",
       "    </tr>\n",
       "    <tr>\n",
       "      <th>79</th>\n",
       "      <td>USGS</td>\n",
       "      <td>9163500</td>\n",
       "      <td>1/1/16 19:45</td>\n",
       "      <td>MST</td>\n",
       "      <td>3750</td>\n",
       "      <td>P</td>\n",
       "      <td>3.93</td>\n",
       "      <td>P</td>\n",
       "    </tr>\n",
       "    <tr>\n",
       "      <th>80</th>\n",
       "      <td>USGS</td>\n",
       "      <td>9163500</td>\n",
       "      <td>1/1/16 20:00</td>\n",
       "      <td>MST</td>\n",
       "      <td>3750</td>\n",
       "      <td>P</td>\n",
       "      <td>3.93</td>\n",
       "      <td>P</td>\n",
       "    </tr>\n",
       "    <tr>\n",
       "      <th>81</th>\n",
       "      <td>USGS</td>\n",
       "      <td>9163500</td>\n",
       "      <td>1/1/16 20:15</td>\n",
       "      <td>MST</td>\n",
       "      <td>3770</td>\n",
       "      <td>P</td>\n",
       "      <td>3.95</td>\n",
       "      <td>P</td>\n",
       "    </tr>\n",
       "    <tr>\n",
       "      <th>82</th>\n",
       "      <td>USGS</td>\n",
       "      <td>9163500</td>\n",
       "      <td>1/1/16 20:30</td>\n",
       "      <td>MST</td>\n",
       "      <td>3770</td>\n",
       "      <td>P</td>\n",
       "      <td>3.95</td>\n",
       "      <td>P</td>\n",
       "    </tr>\n",
       "    <tr>\n",
       "      <th>83</th>\n",
       "      <td>USGS</td>\n",
       "      <td>9163500</td>\n",
       "      <td>1/1/16 20:45</td>\n",
       "      <td>MST</td>\n",
       "      <td>3750</td>\n",
       "      <td>P</td>\n",
       "      <td>3.94</td>\n",
       "      <td>P</td>\n",
       "    </tr>\n",
       "    <tr>\n",
       "      <th>84</th>\n",
       "      <td>USGS</td>\n",
       "      <td>9163500</td>\n",
       "      <td>1/1/16 21:00</td>\n",
       "      <td>MST</td>\n",
       "      <td>3740</td>\n",
       "      <td>P</td>\n",
       "      <td>3.92</td>\n",
       "      <td>P</td>\n",
       "    </tr>\n",
       "    <tr>\n",
       "      <th>85</th>\n",
       "      <td>USGS</td>\n",
       "      <td>9163500</td>\n",
       "      <td>1/1/16 21:15</td>\n",
       "      <td>MST</td>\n",
       "      <td>3720</td>\n",
       "      <td>P</td>\n",
       "      <td>3.91</td>\n",
       "      <td>P</td>\n",
       "    </tr>\n",
       "    <tr>\n",
       "      <th>86</th>\n",
       "      <td>USGS</td>\n",
       "      <td>9163500</td>\n",
       "      <td>1/1/16 21:30</td>\n",
       "      <td>MST</td>\n",
       "      <td>3680</td>\n",
       "      <td>P</td>\n",
       "      <td>3.89</td>\n",
       "      <td>P</td>\n",
       "    </tr>\n",
       "    <tr>\n",
       "      <th>87</th>\n",
       "      <td>USGS</td>\n",
       "      <td>9163500</td>\n",
       "      <td>1/1/16 21:45</td>\n",
       "      <td>MST</td>\n",
       "      <td>3660</td>\n",
       "      <td>P</td>\n",
       "      <td>3.88</td>\n",
       "      <td>P</td>\n",
       "    </tr>\n",
       "    <tr>\n",
       "      <th>88</th>\n",
       "      <td>USGS</td>\n",
       "      <td>9163500</td>\n",
       "      <td>1/1/16 22:00</td>\n",
       "      <td>MST</td>\n",
       "      <td>3650</td>\n",
       "      <td>P</td>\n",
       "      <td>3.87</td>\n",
       "      <td>P</td>\n",
       "    </tr>\n",
       "    <tr>\n",
       "      <th>89</th>\n",
       "      <td>USGS</td>\n",
       "      <td>9163500</td>\n",
       "      <td>1/1/16 22:15</td>\n",
       "      <td>MST</td>\n",
       "      <td>3650</td>\n",
       "      <td>P</td>\n",
       "      <td>3.87</td>\n",
       "      <td>P</td>\n",
       "    </tr>\n",
       "    <tr>\n",
       "      <th>90</th>\n",
       "      <td>USGS</td>\n",
       "      <td>9163500</td>\n",
       "      <td>1/1/16 22:30</td>\n",
       "      <td>MST</td>\n",
       "      <td>3610</td>\n",
       "      <td>P</td>\n",
       "      <td>3.85</td>\n",
       "      <td>P</td>\n",
       "    </tr>\n",
       "    <tr>\n",
       "      <th>91</th>\n",
       "      <td>USGS</td>\n",
       "      <td>9163500</td>\n",
       "      <td>1/1/16 22:45</td>\n",
       "      <td>MST</td>\n",
       "      <td>3590</td>\n",
       "      <td>P</td>\n",
       "      <td>3.84</td>\n",
       "      <td>P</td>\n",
       "    </tr>\n",
       "    <tr>\n",
       "      <th>92</th>\n",
       "      <td>USGS</td>\n",
       "      <td>9163500</td>\n",
       "      <td>1/1/16 23:00</td>\n",
       "      <td>MST</td>\n",
       "      <td>3580</td>\n",
       "      <td>P</td>\n",
       "      <td>3.83</td>\n",
       "      <td>P</td>\n",
       "    </tr>\n",
       "    <tr>\n",
       "      <th>93</th>\n",
       "      <td>USGS</td>\n",
       "      <td>9163500</td>\n",
       "      <td>1/1/16 23:15</td>\n",
       "      <td>MST</td>\n",
       "      <td>3560</td>\n",
       "      <td>P</td>\n",
       "      <td>3.81</td>\n",
       "      <td>P</td>\n",
       "    </tr>\n",
       "    <tr>\n",
       "      <th>94</th>\n",
       "      <td>USGS</td>\n",
       "      <td>9163500</td>\n",
       "      <td>1/1/16 23:30</td>\n",
       "      <td>MST</td>\n",
       "      <td>3540</td>\n",
       "      <td>P</td>\n",
       "      <td>3.80</td>\n",
       "      <td>P</td>\n",
       "    </tr>\n",
       "    <tr>\n",
       "      <th>95</th>\n",
       "      <td>USGS</td>\n",
       "      <td>9163500</td>\n",
       "      <td>1/1/16 23:45</td>\n",
       "      <td>MST</td>\n",
       "      <td>3510</td>\n",
       "      <td>P</td>\n",
       "      <td>3.78</td>\n",
       "      <td>P</td>\n",
       "    </tr>\n",
       "  </tbody>\n",
       "</table>\n",
       "<p>96 rows × 8 columns</p>\n",
       "</div>"
      ],
      "text/plain": [
       "   agency_cd  site_no      datetime tz_cd  01_00060 01_00060_cd  02_00065  \\\n",
       "0       USGS  9163500   1/1/16 0:00   MST      3510           P      3.78   \n",
       "1       USGS  9163500   1/1/16 0:15   MST      3510           P      3.78   \n",
       "2       USGS  9163500   1/1/16 0:30   MST      3490           P      3.77   \n",
       "3       USGS  9163500   1/1/16 0:45   MST      3490           P      3.77   \n",
       "4       USGS  9163500   1/1/16 1:00   MST      3470           P      3.76   \n",
       "5       USGS  9163500   1/1/16 1:15   MST      3460           P      3.75   \n",
       "6       USGS  9163500   1/1/16 1:30   MST      3420           P      3.73   \n",
       "7       USGS  9163500   1/1/16 1:45   MST      3410           P      3.72   \n",
       "8       USGS  9163500   1/1/16 2:00   MST      3390           P      3.71   \n",
       "9       USGS  9163500   1/1/16 2:15   MST      3390           P      3.70   \n",
       "10      USGS  9163500   1/1/16 2:30   MST      3360           P      3.68   \n",
       "11      USGS  9163500   1/1/16 2:45   MST      3340           P      3.67   \n",
       "12      USGS  9163500   1/1/16 3:00   MST      3340           P      3.67   \n",
       "13      USGS  9163500   1/1/16 3:15   MST      3320           P      3.66   \n",
       "14      USGS  9163500   1/1/16 3:30   MST      3310           P      3.65   \n",
       "15      USGS  9163500   1/1/16 3:45   MST      3310           P      3.65   \n",
       "16      USGS  9163500   1/1/16 4:00   MST      3290           P      3.64   \n",
       "17      USGS  9163500   1/1/16 4:15   MST      3270           P      3.63   \n",
       "18      USGS  9163500   1/1/16 4:30   MST      3270           P      3.63   \n",
       "19      USGS  9163500   1/1/16 4:45   MST      3260           P      3.62   \n",
       "20      USGS  9163500   1/1/16 5:00   MST      3260           P      3.62   \n",
       "21      USGS  9163500   1/1/16 5:15   MST      3230           P      3.60   \n",
       "22      USGS  9163500   1/1/16 5:30   MST      3240           P      3.61   \n",
       "23      USGS  9163500   1/1/16 5:45   MST      3230           P      3.60   \n",
       "24      USGS  9163500   1/1/16 6:00   MST      3230           P      3.60   \n",
       "25      USGS  9163500   1/1/16 6:15   MST      3230           P      3.59   \n",
       "26      USGS  9163500   1/1/16 6:30   MST      3210           P      3.58   \n",
       "27      USGS  9163500   1/1/16 6:45   MST      3210           P      3.58   \n",
       "28      USGS  9163500   1/1/16 7:00   MST      3190           P      3.57   \n",
       "29      USGS  9163500   1/1/16 7:15   MST      3160           P      3.55   \n",
       "..       ...      ...           ...   ...       ...         ...       ...   \n",
       "66      USGS  9163500  1/1/16 16:30   MST      3630           P      3.86   \n",
       "67      USGS  9163500  1/1/16 16:45   MST      3630           P      3.86   \n",
       "68      USGS  9163500  1/1/16 17:00   MST      3650           P      3.87   \n",
       "69      USGS  9163500  1/1/16 17:15   MST      3660           P      3.88   \n",
       "70      USGS  9163500  1/1/16 17:30   MST      3660           P      3.88   \n",
       "71      USGS  9163500  1/1/16 17:45   MST      3680           P      3.89   \n",
       "72      USGS  9163500  1/1/16 18:00   MST      3680           P      3.89   \n",
       "73      USGS  9163500  1/1/16 18:15   MST      3680           P      3.89   \n",
       "74      USGS  9163500  1/1/16 18:30   MST      3680           P      3.89   \n",
       "75      USGS  9163500  1/1/16 18:45   MST      3680           P      3.89   \n",
       "76      USGS  9163500  1/1/16 19:00   MST      3680           P      3.89   \n",
       "77      USGS  9163500  1/1/16 19:15   MST      3700           P      3.90   \n",
       "78      USGS  9163500  1/1/16 19:30   MST      3720           P      3.91   \n",
       "79      USGS  9163500  1/1/16 19:45   MST      3750           P      3.93   \n",
       "80      USGS  9163500  1/1/16 20:00   MST      3750           P      3.93   \n",
       "81      USGS  9163500  1/1/16 20:15   MST      3770           P      3.95   \n",
       "82      USGS  9163500  1/1/16 20:30   MST      3770           P      3.95   \n",
       "83      USGS  9163500  1/1/16 20:45   MST      3750           P      3.94   \n",
       "84      USGS  9163500  1/1/16 21:00   MST      3740           P      3.92   \n",
       "85      USGS  9163500  1/1/16 21:15   MST      3720           P      3.91   \n",
       "86      USGS  9163500  1/1/16 21:30   MST      3680           P      3.89   \n",
       "87      USGS  9163500  1/1/16 21:45   MST      3660           P      3.88   \n",
       "88      USGS  9163500  1/1/16 22:00   MST      3650           P      3.87   \n",
       "89      USGS  9163500  1/1/16 22:15   MST      3650           P      3.87   \n",
       "90      USGS  9163500  1/1/16 22:30   MST      3610           P      3.85   \n",
       "91      USGS  9163500  1/1/16 22:45   MST      3590           P      3.84   \n",
       "92      USGS  9163500  1/1/16 23:00   MST      3580           P      3.83   \n",
       "93      USGS  9163500  1/1/16 23:15   MST      3560           P      3.81   \n",
       "94      USGS  9163500  1/1/16 23:30   MST      3540           P      3.80   \n",
       "95      USGS  9163500  1/1/16 23:45   MST      3510           P      3.78   \n",
       "\n",
       "   02_00065_cd  \n",
       "0            P  \n",
       "1            P  \n",
       "2            P  \n",
       "3            P  \n",
       "4            P  \n",
       "5            P  \n",
       "6            P  \n",
       "7            P  \n",
       "8            P  \n",
       "9            P  \n",
       "10           P  \n",
       "11           P  \n",
       "12           P  \n",
       "13           P  \n",
       "14           P  \n",
       "15           P  \n",
       "16           P  \n",
       "17           P  \n",
       "18           P  \n",
       "19           P  \n",
       "20           P  \n",
       "21           P  \n",
       "22           P  \n",
       "23           P  \n",
       "24           P  \n",
       "25           P  \n",
       "26           P  \n",
       "27           P  \n",
       "28           P  \n",
       "29           P  \n",
       "..         ...  \n",
       "66           P  \n",
       "67           P  \n",
       "68           P  \n",
       "69           P  \n",
       "70           P  \n",
       "71           P  \n",
       "72           P  \n",
       "73           P  \n",
       "74           P  \n",
       "75           P  \n",
       "76           P  \n",
       "77           P  \n",
       "78           P  \n",
       "79           P  \n",
       "80           P  \n",
       "81           P  \n",
       "82           P  \n",
       "83           P  \n",
       "84           P  \n",
       "85           P  \n",
       "86           P  \n",
       "87           P  \n",
       "88           P  \n",
       "89           P  \n",
       "90           P  \n",
       "91           P  \n",
       "92           P  \n",
       "93           P  \n",
       "94           P  \n",
       "95           P  \n",
       "\n",
       "[96 rows x 8 columns]"
      ]
     },
     "execution_count": 3,
     "metadata": {},
     "output_type": "execute_result"
    }
   ],
   "source": [
    "data"
   ]
  },
  {
   "cell_type": "code",
   "execution_count": 4,
   "metadata": {
    "collapsed": false
   },
   "outputs": [
    {
     "data": {
      "text/html": [
       "<div>\n",
       "<table border=\"1\" class=\"dataframe\">\n",
       "  <thead>\n",
       "    <tr style=\"text-align: right;\">\n",
       "      <th></th>\n",
       "      <th>agency_cd</th>\n",
       "      <th>site_no</th>\n",
       "      <th>datetime</th>\n",
       "      <th>tz_cd</th>\n",
       "      <th>01_00060</th>\n",
       "      <th>01_00060_cd</th>\n",
       "      <th>02_00065</th>\n",
       "      <th>02_00065_cd</th>\n",
       "    </tr>\n",
       "  </thead>\n",
       "  <tbody>\n",
       "    <tr>\n",
       "      <th>0</th>\n",
       "      <td>USGS</td>\n",
       "      <td>9163500</td>\n",
       "      <td>1/1/16 0:00</td>\n",
       "      <td>MST</td>\n",
       "      <td>3510</td>\n",
       "      <td>P</td>\n",
       "      <td>3.78</td>\n",
       "      <td>P</td>\n",
       "    </tr>\n",
       "    <tr>\n",
       "      <th>1</th>\n",
       "      <td>USGS</td>\n",
       "      <td>9163500</td>\n",
       "      <td>1/1/16 0:15</td>\n",
       "      <td>MST</td>\n",
       "      <td>3510</td>\n",
       "      <td>P</td>\n",
       "      <td>3.78</td>\n",
       "      <td>P</td>\n",
       "    </tr>\n",
       "    <tr>\n",
       "      <th>2</th>\n",
       "      <td>USGS</td>\n",
       "      <td>9163500</td>\n",
       "      <td>1/1/16 0:30</td>\n",
       "      <td>MST</td>\n",
       "      <td>3490</td>\n",
       "      <td>P</td>\n",
       "      <td>3.77</td>\n",
       "      <td>P</td>\n",
       "    </tr>\n",
       "    <tr>\n",
       "      <th>3</th>\n",
       "      <td>USGS</td>\n",
       "      <td>9163500</td>\n",
       "      <td>1/1/16 0:45</td>\n",
       "      <td>MST</td>\n",
       "      <td>3490</td>\n",
       "      <td>P</td>\n",
       "      <td>3.77</td>\n",
       "      <td>P</td>\n",
       "    </tr>\n",
       "    <tr>\n",
       "      <th>4</th>\n",
       "      <td>USGS</td>\n",
       "      <td>9163500</td>\n",
       "      <td>1/1/16 1:00</td>\n",
       "      <td>MST</td>\n",
       "      <td>3470</td>\n",
       "      <td>P</td>\n",
       "      <td>3.76</td>\n",
       "      <td>P</td>\n",
       "    </tr>\n",
       "  </tbody>\n",
       "</table>\n",
       "</div>"
      ],
      "text/plain": [
       "  agency_cd  site_no     datetime tz_cd  01_00060 01_00060_cd  02_00065  \\\n",
       "0      USGS  9163500  1/1/16 0:00   MST      3510           P      3.78   \n",
       "1      USGS  9163500  1/1/16 0:15   MST      3510           P      3.78   \n",
       "2      USGS  9163500  1/1/16 0:30   MST      3490           P      3.77   \n",
       "3      USGS  9163500  1/1/16 0:45   MST      3490           P      3.77   \n",
       "4      USGS  9163500  1/1/16 1:00   MST      3470           P      3.76   \n",
       "\n",
       "  02_00065_cd  \n",
       "0           P  \n",
       "1           P  \n",
       "2           P  \n",
       "3           P  \n",
       "4           P  "
      ]
     },
     "execution_count": 4,
     "metadata": {},
     "output_type": "execute_result"
    }
   ],
   "source": [
    "data.head()"
   ]
  },
  {
   "cell_type": "code",
   "execution_count": 5,
   "metadata": {
    "collapsed": true
   },
   "outputs": [],
   "source": [
    "new_column_names = ['Agency','Station','OldDateTime','TimeZone','Discharge','Status','Stage','StageStatus']"
   ]
  },
  {
   "cell_type": "code",
   "execution_count": 6,
   "metadata": {
    "collapsed": false
   },
   "outputs": [
    {
     "name": "stdout",
     "output_type": "stream",
     "text": [
      "['Agency', 'Station', 'OldDateTime', 'TimeZone', 'Discharge', 'Status', 'Stage', 'StageStatus']\n"
     ]
    }
   ],
   "source": [
    "print new_column_names\n"
   ]
  },
  {
   "cell_type": "code",
   "execution_count": 7,
   "metadata": {
    "collapsed": false
   },
   "outputs": [
    {
     "data": {
      "text/plain": [
       "Index([u'agency_cd', u'site_no', u'datetime', u'tz_cd', u'01_00060',\n",
       "       u'01_00060_cd', u'02_00065', u'02_00065_cd'],\n",
       "      dtype='object')"
      ]
     },
     "execution_count": 7,
     "metadata": {},
     "output_type": "execute_result"
    }
   ],
   "source": [
    "data.columns"
   ]
  },
  {
   "cell_type": "code",
   "execution_count": 8,
   "metadata": {
    "collapsed": true
   },
   "outputs": [],
   "source": [
    "data.columns = new_column_names"
   ]
  },
  {
   "cell_type": "code",
   "execution_count": 9,
   "metadata": {
    "collapsed": false
   },
   "outputs": [
    {
     "data": {
      "text/html": [
       "<div>\n",
       "<table border=\"1\" class=\"dataframe\">\n",
       "  <thead>\n",
       "    <tr style=\"text-align: right;\">\n",
       "      <th></th>\n",
       "      <th>Agency</th>\n",
       "      <th>Station</th>\n",
       "      <th>OldDateTime</th>\n",
       "      <th>TimeZone</th>\n",
       "      <th>Discharge</th>\n",
       "      <th>Status</th>\n",
       "      <th>Stage</th>\n",
       "      <th>StageStatus</th>\n",
       "    </tr>\n",
       "  </thead>\n",
       "  <tbody>\n",
       "    <tr>\n",
       "      <th>0</th>\n",
       "      <td>USGS</td>\n",
       "      <td>9163500</td>\n",
       "      <td>1/1/16 0:00</td>\n",
       "      <td>MST</td>\n",
       "      <td>3510</td>\n",
       "      <td>P</td>\n",
       "      <td>3.78</td>\n",
       "      <td>P</td>\n",
       "    </tr>\n",
       "    <tr>\n",
       "      <th>1</th>\n",
       "      <td>USGS</td>\n",
       "      <td>9163500</td>\n",
       "      <td>1/1/16 0:15</td>\n",
       "      <td>MST</td>\n",
       "      <td>3510</td>\n",
       "      <td>P</td>\n",
       "      <td>3.78</td>\n",
       "      <td>P</td>\n",
       "    </tr>\n",
       "    <tr>\n",
       "      <th>2</th>\n",
       "      <td>USGS</td>\n",
       "      <td>9163500</td>\n",
       "      <td>1/1/16 0:30</td>\n",
       "      <td>MST</td>\n",
       "      <td>3490</td>\n",
       "      <td>P</td>\n",
       "      <td>3.77</td>\n",
       "      <td>P</td>\n",
       "    </tr>\n",
       "    <tr>\n",
       "      <th>3</th>\n",
       "      <td>USGS</td>\n",
       "      <td>9163500</td>\n",
       "      <td>1/1/16 0:45</td>\n",
       "      <td>MST</td>\n",
       "      <td>3490</td>\n",
       "      <td>P</td>\n",
       "      <td>3.77</td>\n",
       "      <td>P</td>\n",
       "    </tr>\n",
       "    <tr>\n",
       "      <th>4</th>\n",
       "      <td>USGS</td>\n",
       "      <td>9163500</td>\n",
       "      <td>1/1/16 1:00</td>\n",
       "      <td>MST</td>\n",
       "      <td>3470</td>\n",
       "      <td>P</td>\n",
       "      <td>3.76</td>\n",
       "      <td>P</td>\n",
       "    </tr>\n",
       "  </tbody>\n",
       "</table>\n",
       "</div>"
      ],
      "text/plain": [
       "  Agency  Station  OldDateTime TimeZone  Discharge Status  Stage StageStatus\n",
       "0   USGS  9163500  1/1/16 0:00      MST       3510      P   3.78           P\n",
       "1   USGS  9163500  1/1/16 0:15      MST       3510      P   3.78           P\n",
       "2   USGS  9163500  1/1/16 0:30      MST       3490      P   3.77           P\n",
       "3   USGS  9163500  1/1/16 0:45      MST       3490      P   3.77           P\n",
       "4   USGS  9163500  1/1/16 1:00      MST       3470      P   3.76           P"
      ]
     },
     "execution_count": 9,
     "metadata": {},
     "output_type": "execute_result"
    }
   ],
   "source": [
    "data.head()"
   ]
  },
  {
   "cell_type": "code",
   "execution_count": 10,
   "metadata": {
    "collapsed": false
   },
   "outputs": [
    {
     "data": {
      "text/plain": [
       "Agency          object\n",
       "Station          int64\n",
       "OldDateTime     object\n",
       "TimeZone        object\n",
       "Discharge        int64\n",
       "Status          object\n",
       "Stage          float64\n",
       "StageStatus     object\n",
       "dtype: object"
      ]
     },
     "execution_count": 10,
     "metadata": {},
     "output_type": "execute_result"
    }
   ],
   "source": [
    "data.dtypes"
   ]
  },
  {
   "cell_type": "code",
   "execution_count": 11,
   "metadata": {
    "collapsed": false
   },
   "outputs": [
    {
     "data": {
      "text/plain": [
       "array([9163500], dtype=int64)"
      ]
     },
     "execution_count": 11,
     "metadata": {},
     "output_type": "execute_result"
    }
   ],
   "source": [
    "data['Station'].unique()"
   ]
  },
  {
   "cell_type": "code",
   "execution_count": 12,
   "metadata": {
    "collapsed": false
   },
   "outputs": [
    {
     "name": "stdout",
     "output_type": "stream",
     "text": [
      "9163500\n"
     ]
    }
   ],
   "source": [
    "new_station_name = data['Station'].unique()[0]\n",
    "\n",
    "print new_station_name"
   ]
  },
  {
   "cell_type": "code",
   "execution_count": 13,
   "metadata": {
    "collapsed": false
   },
   "outputs": [
    {
     "ename": "AttributeError",
     "evalue": "'numpy.int64' object has no attribute 'dtypes'",
     "output_type": "error",
     "traceback": [
      "\u001b[1;31m---------------------------------------------------------------------------\u001b[0m",
      "\u001b[1;31mAttributeError\u001b[0m                            Traceback (most recent call last)",
      "\u001b[1;32m<ipython-input-13-d8b5fe9368fb>\u001b[0m in \u001b[0;36m<module>\u001b[1;34m()\u001b[0m\n\u001b[1;32m----> 1\u001b[1;33m \u001b[0mnew_station_name\u001b[0m\u001b[1;33m.\u001b[0m\u001b[0mdtypes\u001b[0m\u001b[1;33m\u001b[0m\u001b[0m\n\u001b[0m",
      "\u001b[1;31mAttributeError\u001b[0m: 'numpy.int64' object has no attribute 'dtypes'"
     ]
    }
   ],
   "source": [
    "new_station_name.dtypes"
   ]
  },
  {
   "cell_type": "code",
   "execution_count": 14,
   "metadata": {
    "collapsed": false
   },
   "outputs": [
    {
     "name": "stdout",
     "output_type": "stream",
     "text": [
      "9163500\n"
     ]
    }
   ],
   "source": [
    "new_station_name = str(data['Station'].unique()[0])\n",
    "\n",
    "print new_station_name"
   ]
  },
  {
   "cell_type": "code",
   "execution_count": 16,
   "metadata": {
    "collapsed": false
   },
   "outputs": [
    {
     "name": "stdout",
     "output_type": "stream",
     "text": [
      "<type 'str'>\n"
     ]
    }
   ],
   "source": [
    "print type(new_station_name)\n"
   ]
  },
  {
   "cell_type": "code",
   "execution_count": 17,
   "metadata": {
    "collapsed": false
   },
   "outputs": [
    {
     "ename": "TypeError",
     "evalue": "unsupported operand type(s) for +: 'int' and 'str'",
     "output_type": "error",
     "traceback": [
      "\u001b[1;31m---------------------------------------------------------------------------\u001b[0m",
      "\u001b[1;31mTypeError\u001b[0m                                 Traceback (most recent call last)",
      "\u001b[1;32m<ipython-input-17-a7bfc3f89063>\u001b[0m in \u001b[0;36m<module>\u001b[1;34m()\u001b[0m\n\u001b[1;32m----> 1\u001b[1;33m \u001b[0mnew_station_name\u001b[0m \u001b[1;33m=\u001b[0m \u001b[1;36m0\u001b[0m\u001b[1;33m+\u001b[0m \u001b[0mstr\u001b[0m\u001b[1;33m(\u001b[0m\u001b[0mdata\u001b[0m\u001b[1;33m[\u001b[0m\u001b[1;34m'Station'\u001b[0m\u001b[1;33m]\u001b[0m\u001b[1;33m.\u001b[0m\u001b[0munique\u001b[0m\u001b[1;33m(\u001b[0m\u001b[1;33m)\u001b[0m\u001b[1;33m[\u001b[0m\u001b[1;36m0\u001b[0m\u001b[1;33m]\u001b[0m\u001b[1;33m)\u001b[0m\u001b[1;33m\u001b[0m\u001b[0m\n\u001b[0m",
      "\u001b[1;31mTypeError\u001b[0m: unsupported operand type(s) for +: 'int' and 'str'"
     ]
    }
   ],
   "source": [
    "new_station_name = 0+ str(data['Station'].unique()[0])"
   ]
  },
  {
   "cell_type": "code",
   "execution_count": 18,
   "metadata": {
    "collapsed": true
   },
   "outputs": [],
   "source": [
    "new_station_name = \"0\" + str(data['Station'].unique()[0])"
   ]
  },
  {
   "cell_type": "code",
   "execution_count": 19,
   "metadata": {
    "collapsed": false
   },
   "outputs": [
    {
     "name": "stdout",
     "output_type": "stream",
     "text": [
      "09163500\n"
     ]
    }
   ],
   "source": [
    "print new_station_name\n"
   ]
  },
  {
   "cell_type": "code",
   "execution_count": 20,
   "metadata": {
    "collapsed": false
   },
   "outputs": [
    {
     "name": "stdout",
     "output_type": "stream",
     "text": [
      "<type 'str'>\n"
     ]
    }
   ],
   "source": [
    "print type(new_station_name)"
   ]
  },
  {
   "cell_type": "code",
   "execution_count": 21,
   "metadata": {
    "collapsed": false
   },
   "outputs": [
    {
     "data": {
      "text/plain": [
       "Agency          object\n",
       "Station          int64\n",
       "OldDateTime     object\n",
       "TimeZone        object\n",
       "Discharge        int64\n",
       "Status          object\n",
       "Stage          float64\n",
       "StageStatus     object\n",
       "dtype: object"
      ]
     },
     "execution_count": 21,
     "metadata": {},
     "output_type": "execute_result"
    }
   ],
   "source": [
    "data.dtypes"
   ]
  },
  {
   "cell_type": "code",
   "execution_count": 22,
   "metadata": {
    "collapsed": true
   },
   "outputs": [],
   "source": [
    "data['Station'] = new_station_name"
   ]
  },
  {
   "cell_type": "code",
   "execution_count": 23,
   "metadata": {
    "collapsed": false
   },
   "outputs": [
    {
     "data": {
      "text/plain": [
       "Agency          object\n",
       "Station         object\n",
       "OldDateTime     object\n",
       "TimeZone        object\n",
       "Discharge        int64\n",
       "Status          object\n",
       "Stage          float64\n",
       "StageStatus     object\n",
       "dtype: object"
      ]
     },
     "execution_count": 23,
     "metadata": {},
     "output_type": "execute_result"
    }
   ],
   "source": [
    "data.dtypes"
   ]
  },
  {
   "cell_type": "code",
   "execution_count": 25,
   "metadata": {
    "collapsed": false
   },
   "outputs": [],
   "source": [
    "data['DateTime'] = pd.to_datetime(data['OldDateTime'])"
   ]
  },
  {
   "cell_type": "code",
   "execution_count": 26,
   "metadata": {
    "collapsed": false
   },
   "outputs": [
    {
     "data": {
      "text/plain": [
       "<bound method DataFrame.head of    Agency   Station   OldDateTime TimeZone  Discharge Status  Stage  \\\n",
       "0    USGS  09163500   1/1/16 0:00      MST       3510      P   3.78   \n",
       "1    USGS  09163500   1/1/16 0:15      MST       3510      P   3.78   \n",
       "2    USGS  09163500   1/1/16 0:30      MST       3490      P   3.77   \n",
       "3    USGS  09163500   1/1/16 0:45      MST       3490      P   3.77   \n",
       "4    USGS  09163500   1/1/16 1:00      MST       3470      P   3.76   \n",
       "5    USGS  09163500   1/1/16 1:15      MST       3460      P   3.75   \n",
       "6    USGS  09163500   1/1/16 1:30      MST       3420      P   3.73   \n",
       "7    USGS  09163500   1/1/16 1:45      MST       3410      P   3.72   \n",
       "8    USGS  09163500   1/1/16 2:00      MST       3390      P   3.71   \n",
       "9    USGS  09163500   1/1/16 2:15      MST       3390      P   3.70   \n",
       "10   USGS  09163500   1/1/16 2:30      MST       3360      P   3.68   \n",
       "11   USGS  09163500   1/1/16 2:45      MST       3340      P   3.67   \n",
       "12   USGS  09163500   1/1/16 3:00      MST       3340      P   3.67   \n",
       "13   USGS  09163500   1/1/16 3:15      MST       3320      P   3.66   \n",
       "14   USGS  09163500   1/1/16 3:30      MST       3310      P   3.65   \n",
       "15   USGS  09163500   1/1/16 3:45      MST       3310      P   3.65   \n",
       "16   USGS  09163500   1/1/16 4:00      MST       3290      P   3.64   \n",
       "17   USGS  09163500   1/1/16 4:15      MST       3270      P   3.63   \n",
       "18   USGS  09163500   1/1/16 4:30      MST       3270      P   3.63   \n",
       "19   USGS  09163500   1/1/16 4:45      MST       3260      P   3.62   \n",
       "20   USGS  09163500   1/1/16 5:00      MST       3260      P   3.62   \n",
       "21   USGS  09163500   1/1/16 5:15      MST       3230      P   3.60   \n",
       "22   USGS  09163500   1/1/16 5:30      MST       3240      P   3.61   \n",
       "23   USGS  09163500   1/1/16 5:45      MST       3230      P   3.60   \n",
       "24   USGS  09163500   1/1/16 6:00      MST       3230      P   3.60   \n",
       "25   USGS  09163500   1/1/16 6:15      MST       3230      P   3.59   \n",
       "26   USGS  09163500   1/1/16 6:30      MST       3210      P   3.58   \n",
       "27   USGS  09163500   1/1/16 6:45      MST       3210      P   3.58   \n",
       "28   USGS  09163500   1/1/16 7:00      MST       3190      P   3.57   \n",
       "29   USGS  09163500   1/1/16 7:15      MST       3160      P   3.55   \n",
       "..    ...       ...           ...      ...        ...    ...    ...   \n",
       "66   USGS  09163500  1/1/16 16:30      MST       3630      P   3.86   \n",
       "67   USGS  09163500  1/1/16 16:45      MST       3630      P   3.86   \n",
       "68   USGS  09163500  1/1/16 17:00      MST       3650      P   3.87   \n",
       "69   USGS  09163500  1/1/16 17:15      MST       3660      P   3.88   \n",
       "70   USGS  09163500  1/1/16 17:30      MST       3660      P   3.88   \n",
       "71   USGS  09163500  1/1/16 17:45      MST       3680      P   3.89   \n",
       "72   USGS  09163500  1/1/16 18:00      MST       3680      P   3.89   \n",
       "73   USGS  09163500  1/1/16 18:15      MST       3680      P   3.89   \n",
       "74   USGS  09163500  1/1/16 18:30      MST       3680      P   3.89   \n",
       "75   USGS  09163500  1/1/16 18:45      MST       3680      P   3.89   \n",
       "76   USGS  09163500  1/1/16 19:00      MST       3680      P   3.89   \n",
       "77   USGS  09163500  1/1/16 19:15      MST       3700      P   3.90   \n",
       "78   USGS  09163500  1/1/16 19:30      MST       3720      P   3.91   \n",
       "79   USGS  09163500  1/1/16 19:45      MST       3750      P   3.93   \n",
       "80   USGS  09163500  1/1/16 20:00      MST       3750      P   3.93   \n",
       "81   USGS  09163500  1/1/16 20:15      MST       3770      P   3.95   \n",
       "82   USGS  09163500  1/1/16 20:30      MST       3770      P   3.95   \n",
       "83   USGS  09163500  1/1/16 20:45      MST       3750      P   3.94   \n",
       "84   USGS  09163500  1/1/16 21:00      MST       3740      P   3.92   \n",
       "85   USGS  09163500  1/1/16 21:15      MST       3720      P   3.91   \n",
       "86   USGS  09163500  1/1/16 21:30      MST       3680      P   3.89   \n",
       "87   USGS  09163500  1/1/16 21:45      MST       3660      P   3.88   \n",
       "88   USGS  09163500  1/1/16 22:00      MST       3650      P   3.87   \n",
       "89   USGS  09163500  1/1/16 22:15      MST       3650      P   3.87   \n",
       "90   USGS  09163500  1/1/16 22:30      MST       3610      P   3.85   \n",
       "91   USGS  09163500  1/1/16 22:45      MST       3590      P   3.84   \n",
       "92   USGS  09163500  1/1/16 23:00      MST       3580      P   3.83   \n",
       "93   USGS  09163500  1/1/16 23:15      MST       3560      P   3.81   \n",
       "94   USGS  09163500  1/1/16 23:30      MST       3540      P   3.80   \n",
       "95   USGS  09163500  1/1/16 23:45      MST       3510      P   3.78   \n",
       "\n",
       "   StageStatus            DateTime  \n",
       "0            P 2016-01-01 00:00:00  \n",
       "1            P 2016-01-01 00:15:00  \n",
       "2            P 2016-01-01 00:30:00  \n",
       "3            P 2016-01-01 00:45:00  \n",
       "4            P 2016-01-01 01:00:00  \n",
       "5            P 2016-01-01 01:15:00  \n",
       "6            P 2016-01-01 01:30:00  \n",
       "7            P 2016-01-01 01:45:00  \n",
       "8            P 2016-01-01 02:00:00  \n",
       "9            P 2016-01-01 02:15:00  \n",
       "10           P 2016-01-01 02:30:00  \n",
       "11           P 2016-01-01 02:45:00  \n",
       "12           P 2016-01-01 03:00:00  \n",
       "13           P 2016-01-01 03:15:00  \n",
       "14           P 2016-01-01 03:30:00  \n",
       "15           P 2016-01-01 03:45:00  \n",
       "16           P 2016-01-01 04:00:00  \n",
       "17           P 2016-01-01 04:15:00  \n",
       "18           P 2016-01-01 04:30:00  \n",
       "19           P 2016-01-01 04:45:00  \n",
       "20           P 2016-01-01 05:00:00  \n",
       "21           P 2016-01-01 05:15:00  \n",
       "22           P 2016-01-01 05:30:00  \n",
       "23           P 2016-01-01 05:45:00  \n",
       "24           P 2016-01-01 06:00:00  \n",
       "25           P 2016-01-01 06:15:00  \n",
       "26           P 2016-01-01 06:30:00  \n",
       "27           P 2016-01-01 06:45:00  \n",
       "28           P 2016-01-01 07:00:00  \n",
       "29           P 2016-01-01 07:15:00  \n",
       "..         ...                 ...  \n",
       "66           P 2016-01-01 16:30:00  \n",
       "67           P 2016-01-01 16:45:00  \n",
       "68           P 2016-01-01 17:00:00  \n",
       "69           P 2016-01-01 17:15:00  \n",
       "70           P 2016-01-01 17:30:00  \n",
       "71           P 2016-01-01 17:45:00  \n",
       "72           P 2016-01-01 18:00:00  \n",
       "73           P 2016-01-01 18:15:00  \n",
       "74           P 2016-01-01 18:30:00  \n",
       "75           P 2016-01-01 18:45:00  \n",
       "76           P 2016-01-01 19:00:00  \n",
       "77           P 2016-01-01 19:15:00  \n",
       "78           P 2016-01-01 19:30:00  \n",
       "79           P 2016-01-01 19:45:00  \n",
       "80           P 2016-01-01 20:00:00  \n",
       "81           P 2016-01-01 20:15:00  \n",
       "82           P 2016-01-01 20:30:00  \n",
       "83           P 2016-01-01 20:45:00  \n",
       "84           P 2016-01-01 21:00:00  \n",
       "85           P 2016-01-01 21:15:00  \n",
       "86           P 2016-01-01 21:30:00  \n",
       "87           P 2016-01-01 21:45:00  \n",
       "88           P 2016-01-01 22:00:00  \n",
       "89           P 2016-01-01 22:15:00  \n",
       "90           P 2016-01-01 22:30:00  \n",
       "91           P 2016-01-01 22:45:00  \n",
       "92           P 2016-01-01 23:00:00  \n",
       "93           P 2016-01-01 23:15:00  \n",
       "94           P 2016-01-01 23:30:00  \n",
       "95           P 2016-01-01 23:45:00  \n",
       "\n",
       "[96 rows x 9 columns]>"
      ]
     },
     "execution_count": 26,
     "metadata": {},
     "output_type": "execute_result"
    }
   ],
   "source": [
    "data.head"
   ]
  },
  {
   "cell_type": "code",
   "execution_count": 27,
   "metadata": {
    "collapsed": false
   },
   "outputs": [
    {
     "data": {
      "text/html": [
       "<div>\n",
       "<table border=\"1\" class=\"dataframe\">\n",
       "  <thead>\n",
       "    <tr style=\"text-align: right;\">\n",
       "      <th></th>\n",
       "      <th>Agency</th>\n",
       "      <th>Station</th>\n",
       "      <th>OldDateTime</th>\n",
       "      <th>TimeZone</th>\n",
       "      <th>Discharge</th>\n",
       "      <th>Status</th>\n",
       "      <th>Stage</th>\n",
       "      <th>StageStatus</th>\n",
       "      <th>DateTime</th>\n",
       "    </tr>\n",
       "  </thead>\n",
       "  <tbody>\n",
       "    <tr>\n",
       "      <th>0</th>\n",
       "      <td>USGS</td>\n",
       "      <td>09163500</td>\n",
       "      <td>1/1/16 0:00</td>\n",
       "      <td>MST</td>\n",
       "      <td>3510</td>\n",
       "      <td>P</td>\n",
       "      <td>3.78</td>\n",
       "      <td>P</td>\n",
       "      <td>2016-01-01 00:00:00</td>\n",
       "    </tr>\n",
       "    <tr>\n",
       "      <th>1</th>\n",
       "      <td>USGS</td>\n",
       "      <td>09163500</td>\n",
       "      <td>1/1/16 0:15</td>\n",
       "      <td>MST</td>\n",
       "      <td>3510</td>\n",
       "      <td>P</td>\n",
       "      <td>3.78</td>\n",
       "      <td>P</td>\n",
       "      <td>2016-01-01 00:15:00</td>\n",
       "    </tr>\n",
       "    <tr>\n",
       "      <th>2</th>\n",
       "      <td>USGS</td>\n",
       "      <td>09163500</td>\n",
       "      <td>1/1/16 0:30</td>\n",
       "      <td>MST</td>\n",
       "      <td>3490</td>\n",
       "      <td>P</td>\n",
       "      <td>3.77</td>\n",
       "      <td>P</td>\n",
       "      <td>2016-01-01 00:30:00</td>\n",
       "    </tr>\n",
       "    <tr>\n",
       "      <th>3</th>\n",
       "      <td>USGS</td>\n",
       "      <td>09163500</td>\n",
       "      <td>1/1/16 0:45</td>\n",
       "      <td>MST</td>\n",
       "      <td>3490</td>\n",
       "      <td>P</td>\n",
       "      <td>3.77</td>\n",
       "      <td>P</td>\n",
       "      <td>2016-01-01 00:45:00</td>\n",
       "    </tr>\n",
       "    <tr>\n",
       "      <th>4</th>\n",
       "      <td>USGS</td>\n",
       "      <td>09163500</td>\n",
       "      <td>1/1/16 1:00</td>\n",
       "      <td>MST</td>\n",
       "      <td>3470</td>\n",
       "      <td>P</td>\n",
       "      <td>3.76</td>\n",
       "      <td>P</td>\n",
       "      <td>2016-01-01 01:00:00</td>\n",
       "    </tr>\n",
       "  </tbody>\n",
       "</table>\n",
       "</div>"
      ],
      "text/plain": [
       "  Agency   Station  OldDateTime TimeZone  Discharge Status  Stage StageStatus  \\\n",
       "0   USGS  09163500  1/1/16 0:00      MST       3510      P   3.78           P   \n",
       "1   USGS  09163500  1/1/16 0:15      MST       3510      P   3.78           P   \n",
       "2   USGS  09163500  1/1/16 0:30      MST       3490      P   3.77           P   \n",
       "3   USGS  09163500  1/1/16 0:45      MST       3490      P   3.77           P   \n",
       "4   USGS  09163500  1/1/16 1:00      MST       3470      P   3.76           P   \n",
       "\n",
       "             DateTime  \n",
       "0 2016-01-01 00:00:00  \n",
       "1 2016-01-01 00:15:00  \n",
       "2 2016-01-01 00:30:00  \n",
       "3 2016-01-01 00:45:00  \n",
       "4 2016-01-01 01:00:00  "
      ]
     },
     "execution_count": 27,
     "metadata": {},
     "output_type": "execute_result"
    }
   ],
   "source": [
    "data.head()"
   ]
  },
  {
   "cell_type": "code",
   "execution_count": 28,
   "metadata": {
    "collapsed": true
   },
   "outputs": [],
   "source": [
    "clean_data = data[['Station','DateTime', 'Discharge', 'Stage']]"
   ]
  },
  {
   "cell_type": "raw",
   "metadata": {},
   "source": [
    "clean_data.head()"
   ]
  },
  {
   "cell_type": "code",
   "execution_count": 30,
   "metadata": {
    "collapsed": true
   },
   "outputs": [],
   "source": [
    "import matplotlib.pyplot as plt"
   ]
  },
  {
   "cell_type": "code",
   "execution_count": 31,
   "metadata": {
    "collapsed": true
   },
   "outputs": [],
   "source": [
    "%matplotlib inline"
   ]
  },
  {
   "cell_type": "code",
   "execution_count": 33,
   "metadata": {
    "collapsed": false
   },
   "outputs": [
    {
     "data": {
      "text/plain": [
       "[<matplotlib.lines.Line2D at 0xcc48fd0>]"
      ]
     },
     "execution_count": 33,
     "metadata": {},
     "output_type": "execute_result"
    },
    {
     "data": {
      "image/png": "[encoded data removed]",
      "text/plain": [
       "<matplotlib.figure.Figure at 0xcc7f5c0>"
      ]
     },
     "metadata": {},
     "output_type": "display_data"
    }
   ],
   "source": [
    "plt.plot(data['DateTime'],data['Discharge'])"
   ]
  },
  {
   "cell_type": "code",
   "execution_count": 43,
   "metadata": {
    "collapsed": false
   },
   "outputs": [
    {
     "data": {
      "image/png": "[encoded data removed]",
      "text/plain": [
       "<matplotlib.figure.Figure at 0xec1e5c0>"
      ]
     },
     "metadata": {},
     "output_type": "display_data"
    }
   ],
   "source": [
    "data.plot(x = 'DateTime', y = 'Discharge', title = 'Station ' + new_station_name)\n",
    "plt.ylabel('Discharge (ft$^3$/s)')\n",
    "\n",
    "plt.savefig('hydrograph_' + new_station_name + '.pdf')"
   ]
  },
  {
   "cell_type": "code",
   "execution_count": 44,
   "metadata": {
    "collapsed": true
   },
   "outputs": [],
   "source": [
    "url = \"http://waterservices.usgs.gov/nwis/iv/?format=rdb&sites=09380000&startDT=2016-01-01&endDT=2016-01-10&parameterCd=00060,00065\""
   ]
  },
  {
   "cell_type": "code",
   "execution_count": 49,
   "metadata": {
    "collapsed": false
   },
   "outputs": [],
   "source": [
    "data = pd.read_csv(url, comment = '#', sep = '\\t', header = 1)"
   ]
  },
  {
   "cell_type": "code",
   "execution_count": 50,
   "metadata": {
    "collapsed": false
   },
   "outputs": [
    {
     "data": {
      "text/html": [
       "<div>\n",
       "<table border=\"1\" class=\"dataframe\">\n",
       "  <thead>\n",
       "    <tr style=\"text-align: right;\">\n",
       "      <th></th>\n",
       "      <th>5s</th>\n",
       "      <th>15s</th>\n",
       "      <th>20d</th>\n",
       "      <th>6s</th>\n",
       "      <th>14n</th>\n",
       "      <th>10s</th>\n",
       "      <th>14n.1</th>\n",
       "      <th>10s.1</th>\n",
       "    </tr>\n",
       "  </thead>\n",
       "  <tbody>\n",
       "    <tr>\n",
       "      <th>0</th>\n",
       "      <td>USGS</td>\n",
       "      <td>9380000</td>\n",
       "      <td>2016-01-01 00:00</td>\n",
       "      <td>MST</td>\n",
       "      <td>15200</td>\n",
       "      <td>P</td>\n",
       "      <td>9.74</td>\n",
       "      <td>P</td>\n",
       "    </tr>\n",
       "    <tr>\n",
       "      <th>1</th>\n",
       "      <td>USGS</td>\n",
       "      <td>9380000</td>\n",
       "      <td>2016-01-01 00:15</td>\n",
       "      <td>MST</td>\n",
       "      <td>14900</td>\n",
       "      <td>P</td>\n",
       "      <td>9.67</td>\n",
       "      <td>P</td>\n",
       "    </tr>\n",
       "    <tr>\n",
       "      <th>2</th>\n",
       "      <td>USGS</td>\n",
       "      <td>9380000</td>\n",
       "      <td>2016-01-01 00:30</td>\n",
       "      <td>MST</td>\n",
       "      <td>14600</td>\n",
       "      <td>P</td>\n",
       "      <td>9.62</td>\n",
       "      <td>P</td>\n",
       "    </tr>\n",
       "    <tr>\n",
       "      <th>3</th>\n",
       "      <td>USGS</td>\n",
       "      <td>9380000</td>\n",
       "      <td>2016-01-01 00:45</td>\n",
       "      <td>MST</td>\n",
       "      <td>14200</td>\n",
       "      <td>P</td>\n",
       "      <td>9.55</td>\n",
       "      <td>P</td>\n",
       "    </tr>\n",
       "    <tr>\n",
       "      <th>4</th>\n",
       "      <td>USGS</td>\n",
       "      <td>9380000</td>\n",
       "      <td>2016-01-01 01:00</td>\n",
       "      <td>MST</td>\n",
       "      <td>14000</td>\n",
       "      <td>P</td>\n",
       "      <td>9.49</td>\n",
       "      <td>P</td>\n",
       "    </tr>\n",
       "  </tbody>\n",
       "</table>\n",
       "</div>"
      ],
      "text/plain": [
       "     5s      15s               20d   6s    14n 10s  14n.1 10s.1\n",
       "0  USGS  9380000  2016-01-01 00:00  MST  15200   P   9.74     P\n",
       "1  USGS  9380000  2016-01-01 00:15  MST  14900   P   9.67     P\n",
       "2  USGS  9380000  2016-01-01 00:30  MST  14600   P   9.62     P\n",
       "3  USGS  9380000  2016-01-01 00:45  MST  14200   P   9.55     P\n",
       "4  USGS  9380000  2016-01-01 01:00  MST  14000   P   9.49     P"
      ]
     },
     "execution_count": 50,
     "metadata": {},
     "output_type": "execute_result"
    }
   ],
   "source": [
    "data.head()"
   ]
  },
  {
   "cell_type": "code",
   "execution_count": 52,
   "metadata": {
    "collapsed": false
   },
   "outputs": [
    {
     "data": {
      "text/plain": [
       "5s        object\n",
       "15s        int64\n",
       "20d       object\n",
       "6s        object\n",
       "14n        int64\n",
       "10s       object\n",
       "14n.1    float64\n",
       "10s.1     object\n",
       "dtype: object"
      ]
     },
     "execution_count": 52,
     "metadata": {},
     "output_type": "execute_result"
    }
   ],
   "source": [
    "data.dtypes"
   ]
  },
  {
   "cell_type": "code",
   "execution_count": 61,
   "metadata": {
    "collapsed": false
   },
   "outputs": [
    {
     "data": {
      "image/png": "[encoded data removed]",
      "text/plain": [
       "<matplotlib.figure.Figure at 0x106c1dd8>"
      ]
     },
     "metadata": {},
     "output_type": "display_data"
    }
   ],
   "source": [
    "import pandas as pd\n",
    "\n",
    "station_name = '09380000'\n",
    "\n",
    "url1 = 'http://waterservices.usgs.gov/nwis/iv/?'\n",
    "url2 = 'format=rdb'\n",
    "url3 = 'sites=' + station_name \n",
    "url4 = 'startDT=2010-01-01'\n",
    "url5 = 'endDT=2016-01-01'\n",
    "url6 = 'parameterCd=00060,00065'\n",
    "\n",
    "url = url1 + url2 + '&' + url3 + '&' + url4 + '&' + url5 + '&' + url6\n",
    "\n",
    "data = pd.read_csv(url, comment = '#', sep = '\\t', header = 1)\n",
    "\n",
    "new_column_names = ['Agency','Station','OldDateTime','TimeZone','Discharge','Status','Stage','StageStatus']\n",
    "data.columns = new_column_names\n",
    "\n",
    "new_station_name = \"0\" + str(data['Station'].unique()[0])\n",
    "data['Station'] = new_station_name\n",
    "\n",
    "data['DateTime'] = pd.to_datetime(data['OldDateTime'])\n",
    "\n",
    "data.plot(x = 'DateTime', y = 'Discharge', title = 'Station ' + new_station_name)\n",
    "plt.ylabel('Discharge (ft$^3$/s)')\n",
    "\n",
    "plt.savefig('hydrograph_' + new_station_name + '.pdf')\n"
   ]
  },
  {
   "cell_type": "code",
   "execution_count": null,
   "metadata": {
    "collapsed": true
   },
   "outputs": [],
   "source": []
  }
 ],
 "metadata": {
  "kernelspec": {
   "display_name": "Python 2",
   "language": "python",
   "name": "python2"
  },
  "language_info": {
   "codemirror_mode": {
    "name": "ipython",
    "version": 2
   },
   "file_extension": ".py",
   "mimetype": "text/x-python",
   "name": "python",
   "nbconvert_exporter": "python",
   "pygments_lexer": "ipython2",
   "version": "2.7.11"
  }
 },
 "nbformat": 4,
 "nbformat_minor": 0
}
